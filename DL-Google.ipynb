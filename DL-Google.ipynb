{
 "cells": [
  {
   "cell_type": "markdown",
   "metadata": {},
   "source": [
    "# Deep learning by Google on Udacity\n",
    "[Course link](https://classroom.udacity.com/courses/ud730) "
   ]
  },
  {
   "cell_type": "markdown",
   "metadata": {},
   "source": [
    "## Load and process data\n",
    "- [Instruction](https://github.com/tensorflow/tensorflow/blob/master/tensorflow/examples/udacity/1_notmnist.ipynb)\n",
    "- [Practice](./data.ipynb)"
   ]
  },
  {
   "cell_type": "markdown",
   "metadata": {},
   "source": [
    "## Builid a neural network\n",
    "- [Instruction](https://github.com/tensorflow/tensorflow/blob/master/tensorflow/examples/udacity/2_fullyconnected.ipynb)\n",
    "- [Practice](./nn.ipynb)\n",
    "\n",
    "### Reference\n",
    "- [Reading notes of neural network](https://github.com/xiangli-chen/home/blob/master/deep-learning/ann.ipynb)\n",
    "- [Softmax regression implementation using tensorflow](https://github.com/xiangli-chen/tensorFlow-notes/blob/master/softmax-regression.ipynb)"
   ]
  },
  {
   "cell_type": "markdown",
   "metadata": {},
   "source": [
    "## Regularization techniques\n",
    "- [Instruction](https://github.com/tensorflow/tensorflow/blob/master/tensorflow/examples/udacity/3_regularization.ipynb)\n",
    "- [Practice](./reg.ipynb)"
   ]
  },
  {
   "cell_type": "markdown",
   "metadata": {},
   "source": [
    "## Convolutional neural network\n",
    "- [Instruction](https://github.com/tensorflow/tensorflow/blob/master/tensorflow/examples/udacity/4_convolutions.ipynb)\n",
    "- [Practice](./cnn.ipynb)\n",
    "\n",
    "### Reference\n",
    "- [Reading notes of CNN](https://github.com/xiangli-chen/home/blob/master/deep-learning/cnn.ipynb)\n",
    "- [CNN implementation using tensorflow](https://github.com/xiangli-chen/tensorFlow-notes/blob/master/cnn.ipynb)"
   ]
  },
  {
   "cell_type": "markdown",
   "metadata": {},
   "source": [
    "## Text model\n",
    "- [Instruction](https://github.com/tensorflow/tensorflow/blob/master/tensorflow/examples/udacity/5_word2vec.ipynb)\n",
    "- [Practice](./word.ipynb)"
   ]
  },
  {
   "cell_type": "markdown",
   "metadata": {},
   "source": [
    "## Recurrent neural network (LSTM)\n",
    "- [Instruction](https://github.com/tensorflow/tensorflow/blob/master/tensorflow/examples/udacity/6_lstm.ipynb)\n",
    "- [Practice](./rnn.ipynb)\n",
    "\n",
    "### Reference\n",
    "- [Reading notes of RNN](https://github.com/xiangli-chen/home/blob/master/deep-learning/rnn.ipynb)"
   ]
  },
  {
   "cell_type": "code",
   "execution_count": null,
   "metadata": {
    "collapsed": true
   },
   "outputs": [],
   "source": []
  }
 ],
 "metadata": {
  "kernelspec": {
   "display_name": "Python 3",
   "language": "python",
   "name": "python3"
  },
  "language_info": {
   "codemirror_mode": {
    "name": "ipython",
    "version": 3
   },
   "file_extension": ".py",
   "mimetype": "text/x-python",
   "name": "python",
   "nbconvert_exporter": "python",
   "pygments_lexer": "ipython3",
   "version": "3.7.1"
  }
 },
 "nbformat": 4,
 "nbformat_minor": 2
}
